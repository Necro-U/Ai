{
 "cells": [
  {
   "cell_type": "code",
   "execution_count": 4,
   "id": "96dfe3ad",
   "metadata": {},
   "outputs": [],
   "source": [
    "#pip install tensorflow\n",
    "import tensorflow as tf\n",
    "import numpy as np\n",
    "import pandas as pd\n",
    "from sklearn.model_selection import train_test_split\n",
    "from sklearn.preprocessing import StandardScaler"
   ]
  },
  {
   "cell_type": "code",
   "execution_count": 5,
   "id": "d3c04c62",
   "metadata": {},
   "outputs": [],
   "source": [
    "df= pd.read_excel(\"Folds5x2_pp.xlsx\")"
   ]
  },
  {
   "cell_type": "code",
   "execution_count": 7,
   "id": "86761183",
   "metadata": {},
   "outputs": [
    {
     "data": {
      "text/plain": [
       "array([[  14.96,   41.76, 1024.07,   73.17],\n",
       "       [  25.18,   62.96, 1020.04,   59.08],\n",
       "       [   5.11,   39.4 , 1012.16,   92.14],\n",
       "       ...,\n",
       "       [  31.32,   74.33, 1012.92,   36.48],\n",
       "       [  24.48,   69.45, 1013.86,   62.39],\n",
       "       [  21.6 ,   62.52, 1017.23,   67.87]])"
      ]
     },
     "execution_count": 7,
     "metadata": {},
     "output_type": "execute_result"
    }
   ],
   "source": [
    "X=df.iloc[:,:-1].values\n",
    "y=df.iloc[:,-1].values\n",
    "X"
   ]
  },
  {
   "cell_type": "code",
   "execution_count": 8,
   "id": "996dcfe5",
   "metadata": {},
   "outputs": [
    {
     "data": {
      "text/plain": [
       "array([[-0.62951938, -0.98729659,  1.8204884 , -0.00951935],\n",
       "       [ 0.74190911,  0.68104512,  1.1418628 , -0.97462052],\n",
       "       [-1.95129733, -1.17301765, -0.18507756,  1.2898397 ],\n",
       "       ...,\n",
       "       [ 1.56583973,  1.57581141, -0.05709854, -2.52261812],\n",
       "       [ 0.64797565,  1.19177803,  0.1011913 , -0.74790051],\n",
       "       [ 0.26150656,  0.64641916,  0.66867722, -0.37254534]])"
      ]
     },
     "execution_count": 8,
     "metadata": {},
     "output_type": "execute_result"
    }
   ],
   "source": [
    "sc=StandardScaler()\n",
    "X=sc.fit_transform(X)\n",
    "X"
   ]
  },
  {
   "cell_type": "code",
   "execution_count": 13,
   "id": "f4159b67",
   "metadata": {},
   "outputs": [],
   "source": [
    "x_train,x_test,y_train,y_test=train_test_split(X,y)"
   ]
  },
  {
   "cell_type": "code",
   "execution_count": 23,
   "id": "abb33c3c",
   "metadata": {},
   "outputs": [],
   "source": [
    "ann=tf.keras.models.Sequential()\n",
    "ann.add(tf.keras.layers.Dense(units=6,activation='relu'))\n",
    "ann.add(tf.keras.layers.Dense(units=6,activation='relu'))\n",
    "#regression yaptığmızıdan activasyon eklemiyoruz\n",
    "ann.add(tf.keras.layers.Dense(units=1))"
   ]
  },
  {
   "cell_type": "code",
   "execution_count": 25,
   "id": "b672af18",
   "metadata": {},
   "outputs": [
    {
     "name": "stdout",
     "output_type": "stream",
     "text": [
      "Epoch 1/100\n",
      "225/225 [==============================] - 0s 757us/step - loss: 206856.8125 - accuracy: 0.0000e+00\n",
      "Epoch 2/100\n",
      "225/225 [==============================] - 0s 801us/step - loss: 206188.8125 - accuracy: 0.0000e+00\n",
      "Epoch 3/100\n",
      "225/225 [==============================] - 0s 743us/step - loss: 196129.2344 - accuracy: 0.0000e+00\n",
      "Epoch 4/100\n",
      "225/225 [==============================] - 0s 752us/step - loss: 156387.7031 - accuracy: 0.0000e+00\n",
      "Epoch 5/100\n",
      "225/225 [==============================] - 0s 757us/step - loss: 98032.4453 - accuracy: 0.0000e+00\n",
      "Epoch 6/100\n",
      "225/225 [==============================] - 0s 730us/step - loss: 50241.1875 - accuracy: 0.0000e+00\n",
      "Epoch 7/100\n",
      "225/225 [==============================] - 0s 768us/step - loss: 27641.6445 - accuracy: 0.0000e+00\n",
      "Epoch 8/100\n",
      "225/225 [==============================] - 0s 725us/step - loss: 20411.3809 - accuracy: 0.0000e+00\n",
      "Epoch 9/100\n",
      "225/225 [==============================] - 0s 761us/step - loss: 17048.3730 - accuracy: 0.0000e+00\n",
      "Epoch 10/100\n",
      "225/225 [==============================] - 0s 797us/step - loss: 14184.4521 - accuracy: 0.0000e+00\n",
      "Epoch 11/100\n",
      "225/225 [==============================] - 0s 744us/step - loss: 11434.4062 - accuracy: 0.0000e+00\n",
      "Epoch 12/100\n",
      "225/225 [==============================] - 0s 803us/step - loss: 8850.8857 - accuracy: 0.0000e+00\n",
      "Epoch 13/100\n",
      "225/225 [==============================] - 0s 821us/step - loss: 6531.9136 - accuracy: 0.0000e+00\n",
      "Epoch 14/100\n",
      "225/225 [==============================] - 0s 958us/step - loss: 4561.6074 - accuracy: 0.0000e+00\n",
      "Epoch 15/100\n",
      "225/225 [==============================] - 0s 1ms/step - loss: 3015.6931 - accuracy: 0.0000e+00\n",
      "Epoch 16/100\n",
      "225/225 [==============================] - 0s 770us/step - loss: 1918.3488 - accuracy: 0.0000e+00\n",
      "Epoch 17/100\n",
      "225/225 [==============================] - 0s 821us/step - loss: 1210.5176 - accuracy: 0.0000e+00\n",
      "Epoch 18/100\n",
      "225/225 [==============================] - 0s 839us/step - loss: 779.7969 - accuracy: 0.0000e+00\n",
      "Epoch 19/100\n",
      "225/225 [==============================] - 0s 833us/step - loss: 531.0447 - accuracy: 0.0000e+00\n",
      "Epoch 20/100\n",
      "225/225 [==============================] - 0s 897us/step - loss: 381.9111 - accuracy: 0.0000e+00\n",
      "Epoch 21/100\n",
      "225/225 [==============================] - 0s 819us/step - loss: 285.9486 - accuracy: 0.0000e+00\n",
      "Epoch 22/100\n",
      "225/225 [==============================] - 0s 875us/step - loss: 220.4514 - accuracy: 0.0000e+00\n",
      "Epoch 23/100\n",
      "225/225 [==============================] - 0s 839us/step - loss: 172.8896 - accuracy: 0.0000e+00\n",
      "Epoch 24/100\n",
      "225/225 [==============================] - 0s 797us/step - loss: 137.9752 - accuracy: 0.0000e+00\n",
      "Epoch 25/100\n",
      "225/225 [==============================] - 0s 1ms/step - loss: 111.0972 - accuracy: 0.0000e+00\n",
      "Epoch 26/100\n",
      "225/225 [==============================] - 0s 1ms/step - loss: 89.5094 - accuracy: 0.0000e+00\n",
      "Epoch 27/100\n",
      "225/225 [==============================] - 0s 783us/step - loss: 72.8330 - accuracy: 0.0000e+00\n",
      "Epoch 28/100\n",
      "225/225 [==============================] - 0s 821us/step - loss: 60.0729 - accuracy: 0.0000e+00\n",
      "Epoch 29/100\n",
      "225/225 [==============================] - 0s 1ms/step - loss: 50.4398 - accuracy: 0.0000e+00\n",
      "Epoch 30/100\n",
      "225/225 [==============================] - 0s 1ms/step - loss: 43.2530 - accuracy: 0.0000e+00\n",
      "Epoch 31/100\n",
      "225/225 [==============================] - 0s 1ms/step - loss: 37.9433 - accuracy: 0.0000e+00\n",
      "Epoch 32/100\n",
      "225/225 [==============================] - 0s 748us/step - loss: 33.7671 - accuracy: 0.0000e+00\n",
      "Epoch 33/100\n",
      "225/225 [==============================] - 0s 734us/step - loss: 30.5966 - accuracy: 0.0000e+00\n",
      "Epoch 34/100\n",
      "225/225 [==============================] - 0s 717us/step - loss: 28.2622 - accuracy: 0.0000e+00\n",
      "Epoch 35/100\n",
      "225/225 [==============================] - 0s 750us/step - loss: 26.4375 - accuracy: 0.0000e+00\n",
      "Epoch 36/100\n",
      "225/225 [==============================] - 0s 748us/step - loss: 25.0687 - accuracy: 0.0000e+00\n",
      "Epoch 37/100\n",
      "225/225 [==============================] - 0s 1ms/step - loss: 24.0375 - accuracy: 0.0000e+00\n",
      "Epoch 38/100\n",
      "225/225 [==============================] - 0s 1ms/step - loss: 23.2365 - accuracy: 0.0000e+00\n",
      "Epoch 39/100\n",
      "225/225 [==============================] - 0s 1ms/step - loss: 22.6360 - accuracy: 0.0000e+00\n",
      "Epoch 40/100\n",
      "225/225 [==============================] - 0s 1ms/step - loss: 22.2423 - accuracy: 0.0000e+00\n",
      "Epoch 41/100\n",
      "225/225 [==============================] - 0s 1ms/step - loss: 21.8813 - accuracy: 0.0000e+00\n",
      "Epoch 42/100\n",
      "225/225 [==============================] - 0s 783us/step - loss: 21.6310 - accuracy: 0.0000e+00\n",
      "Epoch 43/100\n",
      "225/225 [==============================] - 0s 795us/step - loss: 21.3181 - accuracy: 0.0000e+00\n",
      "Epoch 44/100\n",
      "225/225 [==============================] - 0s 1000us/step - loss: 21.2116 - accuracy: 0.0000e+00\n",
      "Epoch 45/100\n",
      "225/225 [==============================] - 0s 810us/step - loss: 21.1069 - accuracy: 0.0000e+00\n",
      "Epoch 46/100\n",
      "225/225 [==============================] - 0s 1ms/step - loss: 21.0019 - accuracy: 0.0000e+00\n",
      "Epoch 47/100\n",
      "225/225 [==============================] - 0s 1ms/step - loss: 20.9198 - accuracy: 0.0000e+00\n",
      "Epoch 48/100\n",
      "225/225 [==============================] - 0s 980us/step - loss: 20.7371 - accuracy: 0.0000e+00\n",
      "Epoch 49/100\n",
      "225/225 [==============================] - 0s 786us/step - loss: 20.8230 - accuracy: 0.0000e+00\n",
      "Epoch 50/100\n",
      "225/225 [==============================] - 0s 815us/step - loss: 20.7242 - accuracy: 0.0000e+00\n",
      "Epoch 51/100\n",
      "225/225 [==============================] - 0s 790us/step - loss: 20.6080 - accuracy: 0.0000e+00\n",
      "Epoch 52/100\n",
      "225/225 [==============================] - 0s 984us/step - loss: 20.6100 - accuracy: 0.0000e+00\n",
      "Epoch 53/100\n",
      "225/225 [==============================] - 0s 1ms/step - loss: 20.7650 - accuracy: 0.0000e+00\n",
      "Epoch 54/100\n",
      "225/225 [==============================] - 0s 996us/step - loss: 20.7068 - accuracy: 0.0000e+00\n",
      "Epoch 55/100\n",
      "225/225 [==============================] - 0s 946us/step - loss: 20.4826 - accuracy: 0.0000e+00\n",
      "Epoch 56/100\n",
      "225/225 [==============================] - 0s 795us/step - loss: 20.6468 - accuracy: 0.0000e+00\n",
      "Epoch 57/100\n",
      "225/225 [==============================] - 0s 743us/step - loss: 20.6151 - accuracy: 0.0000e+00\n",
      "Epoch 58/100\n",
      "225/225 [==============================] - 0s 775us/step - loss: 20.6294 - accuracy: 0.0000e+00\n",
      "Epoch 59/100\n",
      "225/225 [==============================] - 0s 728us/step - loss: 20.5379 - accuracy: 0.0000e+00\n",
      "Epoch 60/100\n",
      "225/225 [==============================] - 0s 719us/step - loss: 20.4657 - accuracy: 0.0000e+00\n",
      "Epoch 61/100\n",
      "225/225 [==============================] - 0s 741us/step - loss: 20.4300 - accuracy: 0.0000e+00\n",
      "Epoch 62/100\n",
      "225/225 [==============================] - 0s 714us/step - loss: 20.4565 - accuracy: 0.0000e+00\n",
      "Epoch 63/100\n",
      "225/225 [==============================] - 0s 739us/step - loss: 20.4963 - accuracy: 0.0000e+00\n",
      "Epoch 64/100\n",
      "225/225 [==============================] - 0s 734us/step - loss: 20.5433 - accuracy: 0.0000e+00\n",
      "Epoch 65/100\n",
      "225/225 [==============================] - 0s 681us/step - loss: 20.6126 - accuracy: 0.0000e+00\n",
      "Epoch 66/100\n",
      "225/225 [==============================] - 0s 740us/step - loss: 20.4568 - accuracy: 0.0000e+00\n",
      "Epoch 67/100\n",
      "225/225 [==============================] - 0s 774us/step - loss: 20.4821 - accuracy: 0.0000e+00\n",
      "Epoch 68/100\n",
      "225/225 [==============================] - 0s 801us/step - loss: 20.4320 - accuracy: 0.0000e+00\n",
      "Epoch 69/100\n",
      "225/225 [==============================] - 0s 812us/step - loss: 20.5763 - accuracy: 0.0000e+00\n",
      "Epoch 70/100\n",
      "225/225 [==============================] - 0s 783us/step - loss: 20.5103 - accuracy: 0.0000e+00\n",
      "Epoch 71/100\n",
      "225/225 [==============================] - 0s 799us/step - loss: 20.3846 - accuracy: 0.0000e+00\n",
      "Epoch 72/100\n",
      "225/225 [==============================] - 0s 817us/step - loss: 20.5141 - accuracy: 0.0000e+00\n",
      "Epoch 73/100\n",
      "225/225 [==============================] - 0s 752us/step - loss: 20.4552 - accuracy: 0.0000e+00\n",
      "Epoch 74/100\n",
      "225/225 [==============================] - 0s 817us/step - loss: 20.4526 - accuracy: 0.0000e+00\n",
      "Epoch 75/100\n",
      "225/225 [==============================] - 0s 812us/step - loss: 20.4160 - accuracy: 0.0000e+00\n"
     ]
    },
    {
     "name": "stdout",
     "output_type": "stream",
     "text": [
      "Epoch 76/100\n",
      "225/225 [==============================] - 0s 770us/step - loss: 20.6181 - accuracy: 0.0000e+00\n",
      "Epoch 77/100\n",
      "225/225 [==============================] - 0s 757us/step - loss: 20.5708 - accuracy: 0.0000e+00\n",
      "Epoch 78/100\n",
      "225/225 [==============================] - 0s 712us/step - loss: 20.5406 - accuracy: 0.0000e+00\n",
      "Epoch 79/100\n",
      "225/225 [==============================] - 0s 761us/step - loss: 20.5347 - accuracy: 0.0000e+00\n",
      "Epoch 80/100\n",
      "225/225 [==============================] - 0s 732us/step - loss: 20.5824 - accuracy: 0.0000e+00\n",
      "Epoch 81/100\n",
      "225/225 [==============================] - 0s 723us/step - loss: 20.5909 - accuracy: 0.0000e+00\n",
      "Epoch 82/100\n",
      "225/225 [==============================] - 0s 699us/step - loss: 20.4269 - accuracy: 0.0000e+00\n",
      "Epoch 83/100\n",
      "225/225 [==============================] - 0s 674us/step - loss: 20.5353 - accuracy: 0.0000e+00\n",
      "Epoch 84/100\n",
      "225/225 [==============================] - 0s 725us/step - loss: 20.5425 - accuracy: 0.0000e+00\n",
      "Epoch 85/100\n",
      "225/225 [==============================] - 0s 719us/step - loss: 20.4679 - accuracy: 0.0000e+00\n",
      "Epoch 86/100\n",
      "225/225 [==============================] - 0s 712us/step - loss: 20.4094 - accuracy: 0.0000e+00\n",
      "Epoch 87/100\n",
      "225/225 [==============================] - 0s 808us/step - loss: 20.4152 - accuracy: 0.0000e+00\n",
      "Epoch 88/100\n",
      "225/225 [==============================] - 0s 685us/step - loss: 20.3647 - accuracy: 0.0000e+00\n",
      "Epoch 89/100\n",
      "225/225 [==============================] - 0s 672us/step - loss: 20.4367 - accuracy: 0.0000e+00\n",
      "Epoch 90/100\n",
      "225/225 [==============================] - 0s 754us/step - loss: 20.3817 - accuracy: 0.0000e+00\n",
      "Epoch 91/100\n",
      "225/225 [==============================] - 0s 725us/step - loss: 20.5023 - accuracy: 0.0000e+00\n",
      "Epoch 92/100\n",
      "225/225 [==============================] - 0s 705us/step - loss: 20.4269 - accuracy: 0.0000e+00\n",
      "Epoch 93/100\n",
      "225/225 [==============================] - 0s 1ms/step - loss: 20.5075 - accuracy: 0.0000e+00\n",
      "Epoch 94/100\n",
      "225/225 [==============================] - 0s 1ms/step - loss: 20.4927 - accuracy: 0.0000e+00\n",
      "Epoch 95/100\n",
      "225/225 [==============================] - 0s 752us/step - loss: 20.3885 - accuracy: 0.0000e+00\n",
      "Epoch 96/100\n",
      "225/225 [==============================] - 0s 754us/step - loss: 20.3774 - accuracy: 0.0000e+00\n",
      "Epoch 97/100\n",
      "225/225 [==============================] - 0s 705us/step - loss: 20.3921 - accuracy: 0.0000e+00\n",
      "Epoch 98/100\n",
      "225/225 [==============================] - 0s 725us/step - loss: 20.4155 - accuracy: 0.0000e+00\n",
      "Epoch 99/100\n",
      "225/225 [==============================] - 0s 732us/step - loss: 20.4275 - accuracy: 0.0000e+00\n",
      "Epoch 100/100\n",
      "225/225 [==============================] - 0s 808us/step - loss: 20.4478 - accuracy: 0.0000e+00\n"
     ]
    },
    {
     "data": {
      "text/plain": [
       "<keras.callbacks.History at 0x2087fb5fd30>"
      ]
     },
     "execution_count": 25,
     "metadata": {},
     "output_type": "execute_result"
    }
   ],
   "source": [
    "ann.compile(optimizer='adam',metrics=['accuracy'],loss='mean_squared_error')\n",
    "ann.fit(x_train,y_train,epochs=100,batch_size=32)"
   ]
  },
  {
   "cell_type": "code",
   "execution_count": 35,
   "id": "e13afd7b",
   "metadata": {
    "scrolled": true
   },
   "outputs": [
    {
     "name": "stdout",
     "output_type": "stream",
     "text": [
      "[[460.11 466.68]\n",
      " [485.5  487.07]\n",
      " [444.42 442.43]\n",
      " ...\n",
      " [436.92 435.04]\n",
      " [472.64 472.82]\n",
      " [441.76 443.93]]\n"
     ]
    }
   ],
   "source": [
    "from sklearn.metrics import confusion_matrix\n",
    "np.set_printoptions(precision=2)\n",
    "y_pred=ann.predict(x_test)\n",
    "print(np.concatenate((y_pred.reshape(len(y_pred),1),y_test.reshape(len(y_test),1)),1))\n"
   ]
  },
  {
   "cell_type": "code",
   "execution_count": null,
   "id": "92189433",
   "metadata": {},
   "outputs": [],
   "source": []
  }
 ],
 "metadata": {
  "kernelspec": {
   "display_name": "Python 3 (ipykernel)",
   "language": "python",
   "name": "python3"
  },
  "language_info": {
   "codemirror_mode": {
    "name": "ipython",
    "version": 3
   },
   "file_extension": ".py",
   "mimetype": "text/x-python",
   "name": "python",
   "nbconvert_exporter": "python",
   "pygments_lexer": "ipython3",
   "version": "3.9.7"
  }
 },
 "nbformat": 4,
 "nbformat_minor": 5
}
